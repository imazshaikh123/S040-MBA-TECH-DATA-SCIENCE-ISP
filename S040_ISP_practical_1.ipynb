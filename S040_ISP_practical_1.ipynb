{
  "nbformat": 4,
  "nbformat_minor": 0,
  "metadata": {
    "colab": {
      "provenance": [],
      "collapsed_sections": []
    },
    "kernelspec": {
      "name": "python3",
      "display_name": "Python 3"
    },
    "language_info": {
      "name": "python"
    }
  },
  "cells": [
    {
      "cell_type": "code",
      "execution_count": null,
      "metadata": {
        "id": "mC91fYfwV6TJ",
        "colab": {
          "base_uri": "https://localhost:8080/"
        },
        "outputId": "3ba00eb0-570a-427c-9fd8-de5d3e9dd08d"
      },
      "outputs": [
        {
          "output_type": "stream",
          "name": "stdout",
          "text": [
            "5\n"
          ]
        }
      ],
      "source": [
        "a=5\n",
        "b=6\n",
        "text=\"MBA TECH BATCH\"\n",
        "A=6\n",
        "#CANNOT START WITH NMBER\n",
        "#CASE SENSTIVE\n",
        "print(a)"
      ]
    },
    {
      "cell_type": "code",
      "source": [
        "#if else\n",
        "#python "
      ],
      "metadata": {
        "id": "I_ojVUwCU3eV"
      },
      "execution_count": null,
      "outputs": []
    },
    {
      "cell_type": "code",
      "source": [
        "a = 33\n",
        "b = 200\n",
        "if b > a:\n",
        "  print(\"b i greater than a\")"
      ],
      "metadata": {
        "colab": {
          "base_uri": "https://localhost:8080/"
        },
        "id": "EJvQdw_9VE4b",
        "outputId": "6f25b279-bcf9-446a-dbff-a135b1ba4c55"
      },
      "execution_count": null,
      "outputs": [
        {
          "output_type": "stream",
          "name": "stdout",
          "text": [
            "b i greater than a\n"
          ]
        }
      ]
    },
    {
      "cell_type": "code",
      "source": [
        "num = 0\n",
        "if num >0:\n",
        "  print(\"Positive Number\")\n",
        "elif num == 0:\n",
        "  print(\"Zero\")\n",
        "else:\n",
        "  print(\"Negative Number\")"
      ],
      "metadata": {
        "colab": {
          "base_uri": "https://localhost:8080/"
        },
        "id": "tcI_DzP9Vkef",
        "outputId": "f06030cc-d106-4ccc-ce97-d734fe6b90c0"
      },
      "execution_count": null,
      "outputs": [
        {
          "output_type": "stream",
          "name": "stdout",
          "text": [
            "Zero\n"
          ]
        }
      ]
    },
    {
      "cell_type": "code",
      "source": [
        "num = 40\n",
        "if num >0:\n",
        "  print(\"Positive Number\")\n",
        "elif num == 0:\n",
        "  print(\"Zero\")\n",
        "else:\n",
        "  print(\"Negative Number\")"
      ],
      "metadata": {
        "colab": {
          "base_uri": "https://localhost:8080/"
        },
        "id": "HPFPFcEFVklu",
        "outputId": "907ee98d-77dc-4a11-bdf5-2006f0b42378"
      },
      "execution_count": null,
      "outputs": [
        {
          "output_type": "stream",
          "name": "stdout",
          "text": [
            "Positive Number\n"
          ]
        }
      ]
    },
    {
      "cell_type": "code",
      "source": [
        "for i in range (0,5):\n",
        "  print(\"Hi, how are you.\")"
      ],
      "metadata": {
        "colab": {
          "base_uri": "https://localhost:8080/"
        },
        "id": "IjIAOhv0VksN",
        "outputId": "de16f954-77e0-4749-c0b1-f3405409e1b2"
      },
      "execution_count": null,
      "outputs": [
        {
          "output_type": "stream",
          "name": "stdout",
          "text": [
            "Hi, how are you.\n",
            "Hi, how are you.\n",
            "Hi, how are you.\n",
            "Hi, how are you.\n",
            "Hi, how are you.\n"
          ]
        }
      ]
    },
    {
      "cell_type": "code",
      "source": [
        "for i in range(0,5):\n",
        " print(i)"
      ],
      "metadata": {
        "colab": {
          "base_uri": "https://localhost:8080/"
        },
        "id": "39Ba-KHqXY7g",
        "outputId": "4bed5fd4-fc7e-4386-aea4-2af3ad8598f0"
      },
      "execution_count": null,
      "outputs": [
        {
          "output_type": "stream",
          "name": "stdout",
          "text": [
            "0\n",
            "1\n",
            "2\n",
            "3\n",
            "4\n"
          ]
        }
      ]
    },
    {
      "cell_type": "code",
      "source": [
        "text=\"MBA TECH\"\n",
        "for i in range(len(text)):\n",
        "  print(text[i])"
      ],
      "metadata": {
        "id": "xKnUP975XZPY",
        "colab": {
          "base_uri": "https://localhost:8080/"
        },
        "outputId": "6f5c5bb4-64a1-4e45-90eb-abd2b1bfd139"
      },
      "execution_count": null,
      "outputs": [
        {
          "output_type": "stream",
          "name": "stdout",
          "text": [
            "M\n",
            "B\n",
            "A\n",
            " \n",
            "T\n",
            "E\n",
            "C\n",
            "H\n"
          ]
        }
      ]
    },
    {
      "cell_type": "code",
      "source": [
        "a=5\n",
        "b=10\n",
        "sum=a+b\n",
        "print(\"SUM OF TWO NUMBERS IS :\" ,sum)"
      ],
      "metadata": {
        "id": "7JTwI_E_XZWM",
        "colab": {
          "base_uri": "https://localhost:8080/"
        },
        "outputId": "995c2d72-4c0c-4126-ad70-6c35e0fb30a0"
      },
      "execution_count": null,
      "outputs": [
        {
          "output_type": "stream",
          "name": "stdout",
          "text": [
            "SUM OF TWO NUMBERS IS : 15\n"
          ]
        }
      ]
    },
    {
      "cell_type": "code",
      "source": [
        "def sum( arg1 , arg2 ):\n",
        "  total = arg1 + arg2\n",
        "  print(\"Inside the Function: \" ,total)\n",
        "  return total\n",
        "\n",
        "total = sum( 10,5 )\n",
        "print(\"Outside the Function: \" ,total)"
      ],
      "metadata": {
        "id": "F_hUfNj_XZcX",
        "colab": {
          "base_uri": "https://localhost:8080/"
        },
        "outputId": "a728d8d7-f7a6-4fc4-d3e6-abc84768b2cb"
      },
      "execution_count": null,
      "outputs": [
        {
          "output_type": "stream",
          "name": "stdout",
          "text": [
            "Inside the Function:  15\n",
            "Outside the Function:  15\n"
          ]
        }
      ]
    },
    {
      "cell_type": "code",
      "source": [
        "#step1 Take Inputs\n",
        "text=str(input(\"Enter the word: \"))\n",
        "shift=int(input(\"Enter the key: \"))\n",
        "result=''"
      ],
      "metadata": {
        "id": "1hwuznqcXZjs",
        "colab": {
          "base_uri": "https://localhost:8080/"
        },
        "outputId": "02106612-88f2-46e8-bb90-c12195cea0ef"
      },
      "execution_count": null,
      "outputs": [
        {
          "name": "stdout",
          "output_type": "stream",
          "text": [
            "Enter the word: abc\n",
            "Enter the key: 3\n"
          ]
        }
      ]
    },
    {
      "cell_type": "code",
      "source": [
        "#step2 Traverse\n",
        "for i in range(len(text)):\n",
        " char = text[i]\n",
        " print(char)"
      ],
      "metadata": {
        "colab": {
          "base_uri": "https://localhost:8080/"
        },
        "id": "uS0WzhUUiRD5",
        "outputId": "37a69a96-425c-4950-8426-1bc89d3c4535"
      },
      "execution_count": null,
      "outputs": [
        {
          "output_type": "stream",
          "name": "stdout",
          "text": [
            "a\n",
            "b\n",
            "c\n"
          ]
        }
      ]
    },
    {
      "cell_type": "code",
      "source": [
        "# step3 for all upper case shift as per input\n",
        "text ='ABC'\n",
        "shift = 3\n",
        "result=''\n",
        "\n",
        "for i in range(len(text)):\n",
        "  char = text[i]\n",
        "  print(\"original char\",char)\n",
        "  "
      ],
      "metadata": {
        "id": "dTWh0WyFi4g5"
      },
      "execution_count": null,
      "outputs": []
    },
    {
      "cell_type": "code",
      "source": [
        "text = \"ABC\"\n",
        "shift = 3\n",
        "\n",
        "result=''\n",
        "#traverse text\n",
        "for i in range(len(text)):\n",
        "  char = text[i]\n",
        "#encrypt upper case character\n",
        "if (char.isupper()):\n",
        "  result += chr((ord(char) = s - 97))\n"
      ],
      "metadata": {
        "id": "HElmA9ZjoVFb"
      },
      "execution_count": null,
      "outputs": []
    },
    {
      "cell_type": "code",
      "source": [
        "def encrypt(text,s):\n",
        "  result = \"\"\n",
        "  # traverse text\n",
        "  s=s\n",
        "  print(s)\n",
        "  for i in range(len(text)):\n",
        "    char = text[i]\n",
        "\n",
        "    # Encrypt uppercase characters\n",
        "    if (char.isupper()):\n",
        "      result += chr((ord(char) + s-65) % 26 + 65)\n",
        "\n",
        "    # Encrypt lowercase characters\n",
        "    else:\n",
        "      result += chr((ord(char) + s - 97) % 26 + 97)\n",
        "    \n",
        "  return result\n",
        "\n",
        "#check the above function\n",
        "text=str(input(\"enter the word:\"))\n",
        "shift=int(input(\"Enter the key: \"))\n",
        "# print (\"Text : \" + text)\n",
        "# print (\"Shift : \" + str(s))\n",
        "print (\"Cipher: \" + encrypt(text,shift))"
      ],
      "metadata": {
        "colab": {
          "base_uri": "https://localhost:8080/"
        },
        "id": "FLtNtw8O8WPj",
        "outputId": "c3205cf2-8e06-4569-8105-b67b6c8700ce"
      },
      "execution_count": null,
      "outputs": [
        {
          "output_type": "stream",
          "name": "stdout",
          "text": [
            "enter the word:Hi ab\n",
            "Enter the key: 1\n",
            "1\n",
            "Cipher: Ijobc\n"
          ]
        }
      ]
    },
    {
      "cell_type": "code",
      "source": [],
      "metadata": {
        "id": "Hqtm0f0Y8XEh"
      },
      "execution_count": null,
      "outputs": []
    }
  ]
}