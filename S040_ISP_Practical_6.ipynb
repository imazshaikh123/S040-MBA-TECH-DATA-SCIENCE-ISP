{
  "nbformat": 4,
  "nbformat_minor": 0,
  "metadata": {
    "colab": {
      "provenance": [],
      "collapsed_sections": []
    },
    "kernelspec": {
      "name": "python3",
      "display_name": "Python 3"
    },
    "language_info": {
      "name": "python"
    }
  },
  "cells": [
    {
      "cell_type": "markdown",
      "source": [
        "# **Diffie-Hellman key exchange**\n",
        "It is also called exponential key exchange, is a method of digital encryption that uses numbers raised to specific powers to produce decryption keys on the basis of components that are never directly transmitted, making the task of a would-be code breaker mathematically overwhelming. "
      ],
      "metadata": {
        "id": "_e5s3zuYs2CZ"
      }
    },
    {
      "cell_type": "code",
      "execution_count": null,
      "metadata": {
        "id": "m3lraBdrnnGc",
        "colab": {
          "base_uri": "https://localhost:8080/"
        },
        "outputId": "85cabcbd-2084-4e8e-f717-71e030b55e32"
      },
      "outputs": [
        {
          "name": "stdout",
          "output_type": "stream",
          "text": [
            "Both parties agree to a single prime\n",
            "Enter the prime number to be considered: 31\n",
            "Both must agree with single primitive root to use\n",
            "Enter the primitive root: 11\n"
          ]
        }
      ],
      "source": [
        "print(\"Both parties agree to a single prime\")\n",
        "prime = int(input(\"Enter the prime number to be considered: \"))\n",
        "\n",
        "# primitives root to be used use\n",
        "print(\"Both must agree with single primitive root to use\")\n",
        "root = int(input(\"Enter the primitive root: \"))"
      ]
    },
    {
      "cell_type": "code",
      "source": [
        "# party 1 chooses a secret number\n",
        "alicesecret = int(input(\"Enter a secret number for Party1: \"))\n",
        "# Party 2 chooses a secret number (bs)\n",
        "bobssecret = int(input(\"Enter a secret number for Party2: \"))"
      ],
      "metadata": {
        "colab": {
          "base_uri": "https://localhost:8080/"
        },
        "id": "EkpdOULB4fxY",
        "outputId": "7589abd4-6903-4866-9508-a2ed569b2aa4"
      },
      "execution_count": null,
      "outputs": [
        {
          "name": "stdout",
          "output_type": "stream",
          "text": [
            "Enter a secret number for Party1: 98\n",
            "Enter a secret number for Party2: 60\n"
          ]
        }
      ]
    },
    {
      "cell_type": "code",
      "source": [
        "print(\"Party1's public key -> A = root^alicesecre*mod(prime)\")\n",
        "alicepublic = (root**alicesecret)%prime\n",
        "print(\"Party1 public key is: \",alicepublic,\"\\n\")\n",
        "\n",
        "print(\"Party2's public key -> B = root^alicesecre*mod(prime)\")\n",
        "bobpublic = (root**bobssecret)%prime\n",
        "print(\"Party2 public key is: \",bobpublic,\"\\n\")"
      ],
      "metadata": {
        "colab": {
          "base_uri": "https://localhost:8080/"
        },
        "id": "blGPO_1s6XDd",
        "outputId": "a1d3ad81-daff-49a8-d9c4-ba5dbdf560a3"
      },
      "execution_count": null,
      "outputs": [
        {
          "output_type": "stream",
          "name": "stdout",
          "text": [
            "Party1's public key -> A = root^alicesecre*mod(prime)\n",
            "Party1 public key is:  19 \n",
            "\n",
            "Party2's public key -> B = root^alicesecre*mod(prime)\n",
            "Party2 public key is:  1 \n",
            "\n"
          ]
        }
      ]
    },
    {
      "cell_type": "code",
      "source": [
        "print(\"Party1 calculates the shared key as K=B^alicesecret*(mod(prime))\")\n",
        "alicekey=(bobpublic**alicesecret)%prime\n",
        "print(\"Party1 calculates the shared key and results: \",alicekey,\"\\n\")"
      ],
      "metadata": {
        "colab": {
          "base_uri": "https://localhost:8080/"
        },
        "id": "_z1JpXCX7klK",
        "outputId": "57b34e30-0ea7-4119-8330-b01231d9aec9"
      },
      "execution_count": null,
      "outputs": [
        {
          "output_type": "stream",
          "name": "stdout",
          "text": [
            "Party1 calculates the shared key as K=B^alicesecret*(mod(prime))\n",
            "Party1 calculates the shared key and results:  1 \n",
            "\n"
          ]
        }
      ]
    },
    {
      "cell_type": "code",
      "source": [
        "print(\"Party2 calculates the shared key as K=A^bobsecret*(mod(prime))\")\n",
        "bobkey=(alicepublic**bobssecret)%prime\n",
        "print(\"Party2 calculates the shared key and results: \",bobkey,\"\\n\")"
      ],
      "metadata": {
        "colab": {
          "base_uri": "https://localhost:8080/"
        },
        "id": "j0YNxLcc8lBi",
        "outputId": "cd8b9288-7722-45d6-a411-e35692b89159"
      },
      "execution_count": null,
      "outputs": [
        {
          "output_type": "stream",
          "name": "stdout",
          "text": [
            "Party2 calculates the shared key as K=A^bobsecret*(mod(prime))\n",
            "Party2 calculates the shared key and results:  1 \n",
            "\n"
          ]
        }
      ]
    },
    {
      "cell_type": "code",
      "source": [],
      "metadata": {
        "id": "0VszFsFM87T1"
      },
      "execution_count": null,
      "outputs": []
    }
  ]
}