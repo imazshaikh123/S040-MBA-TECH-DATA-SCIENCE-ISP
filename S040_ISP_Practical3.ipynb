{
  "nbformat": 4,
  "nbformat_minor": 0,
  "metadata": {
    "colab": {
      "provenance": [],
      "collapsed_sections": []
    },
    "kernelspec": {
      "name": "python3",
      "display_name": "Python 3"
    },
    "language_info": {
      "name": "python"
    }
  },
  "cells": [
    {
      "cell_type": "code",
      "source": [
        "fruits = [\"apple\", \"banana\", \"Cherry\", \"kiwi\", \"mango\", \"apple\"]\n",
        "newlist = []\n",
        "for x in fruits:\n",
        "  if \"apple\" in x:\n",
        "    newlist.append(x)\n",
        "\n",
        "print(newlist)"
      ],
      "metadata": {
        "colab": {
          "base_uri": "https://localhost:8080/"
        },
        "id": "v4V3spT3fdWs",
        "outputId": "4e419fdc-41a8-496b-e414-57ad84abfb32"
      },
      "execution_count": null,
      "outputs": [
        {
          "output_type": "stream",
          "name": "stdout",
          "text": [
            "['apple', 'apple']\n"
          ]
        }
      ]
    },
    {
      "cell_type": "code",
      "source": [
        "fruits = [\"apple\", \"banana\", \"Cherry\", \"kiwi\", \"mango\", \"apple\"]\n",
        "newlist = []\n",
        "for x in fruits:\n",
        "  if \"apple\" not in x:\n",
        "    newlist.append(x)\n",
        "\n",
        "print(newlist)"
      ],
      "metadata": {
        "colab": {
          "base_uri": "https://localhost:8080/"
        },
        "id": "TVzCcdbkgtNj",
        "outputId": "b2ada990-72de-4d76-da1d-219e601978ba"
      },
      "execution_count": null,
      "outputs": [
        {
          "output_type": "stream",
          "name": "stdout",
          "text": [
            "['banana', 'Cherry', 'kiwi', 'mango']\n"
          ]
        }
      ]
    },
    {
      "cell_type": "code",
      "source": [
        "newlist = [x.upper() for x in fruits]\n",
        "print(newlist)"
      ],
      "metadata": {
        "colab": {
          "base_uri": "https://localhost:8080/"
        },
        "id": "_crT4cbMhCW8",
        "outputId": "435d1e7d-23d5-4aa1-eff1-e604a1d693df"
      },
      "execution_count": null,
      "outputs": [
        {
          "output_type": "stream",
          "name": "stdout",
          "text": [
            "['APPLE', 'BANANA', 'CHERRY', 'KIWI', 'MANGO', 'APPLE']\n"
          ]
        }
      ]
    },
    {
      "cell_type": "code",
      "source": [
        "animals = [\"cat\", \"dog\", \"rabbit\", \"horse\"]\n",
        "index = animals.index(\"dog\")\n",
        "print(index)"
      ],
      "metadata": {
        "colab": {
          "base_uri": "https://localhost:8080/"
        },
        "id": "lbzfMgSjhyNk",
        "outputId": "67ed2c00-5eaf-4e96-b27b-0b4f22928046"
      },
      "execution_count": null,
      "outputs": [
        {
          "output_type": "stream",
          "name": "stdout",
          "text": [
            "1\n"
          ]
        }
      ]
    },
    {
      "cell_type": "markdown",
      "source": [
        "**Keyword Cipher**"
      ],
      "metadata": {
        "id": "TWeJUjuliOXn"
      }
    },
    {
      "cell_type": "code",
      "source": [
        "# pthon program for encoding the string\n",
        "message = \"Attack at dawn\"\n",
        "keyword = \"Star War\"\n",
        "ciphertext = \"\"\n"
      ],
      "metadata": {
        "id": "d32TtYHDiMnG"
      },
      "execution_count": null,
      "outputs": []
    },
    {
      "cell_type": "code",
      "source": [
        "# plain text : A B C D E F G H I J K L M N O P Q R S T U V W X Y Z\n",
        "# keyword :    S T A R W B C D E F G H I J K L M N O P Q U V X Y Z\n",
        "# Encrypted SPPSAG SP RSVJ\n",
        "\n",
        "# stores all upper case alphabets\n",
        "all_alphabets = []\n",
        "for i in range(65,91):\n",
        "  all_alphabets.append(chr(i))\n",
        "print(all_alphabets)"
      ],
      "metadata": {
        "colab": {
          "base_uri": "https://localhost:8080/"
        },
        "id": "G9qNVAz0rTXw",
        "outputId": "f1b93623-ff04-4ed4-eaee-e98c204881c0"
      },
      "execution_count": null,
      "outputs": [
        {
          "output_type": "stream",
          "name": "stdout",
          "text": [
            "['A', 'B', 'C', 'D', 'E', 'F', 'G', 'H', 'I', 'J', 'K', 'L', 'M', 'N', 'O', 'P', 'Q', 'R', 'S', 'T', 'U', 'V', 'W', 'X', 'Y', 'Z']\n"
          ]
        }
      ]
    },
    {
      "cell_type": "code",
      "source": [
        "# converts the message to list\n",
        "msg = []\n",
        "for i in message:\n",
        "  msg.append(i.upper())\n",
        "\n",
        "  # msg = [x.upper() for x in message]"
      ],
      "metadata": {
        "id": "uo3DnMYjsmUq"
      },
      "execution_count": null,
      "outputs": []
    },
    {
      "cell_type": "code",
      "source": [
        "print(msg)"
      ],
      "metadata": {
        "colab": {
          "base_uri": "https://localhost:8080/"
        },
        "id": "MFKfQKnPs_KW",
        "outputId": "46f15934-daa2-462a-9fb5-bfff9ad2fc81"
      },
      "execution_count": null,
      "outputs": [
        {
          "output_type": "stream",
          "name": "stdout",
          "text": [
            "['A', 'T', 'T', 'A', 'C', 'K', ' ', 'A', 'T', ' ', 'D', 'A', 'W', 'N']\n"
          ]
        }
      ]
    },
    {
      "cell_type": "code",
      "source": [
        "keyword1 = keyword.upper()"
      ],
      "metadata": {
        "id": "beL5eybTsT39"
      },
      "execution_count": null,
      "outputs": []
    },
    {
      "cell_type": "code",
      "source": [
        "# remove default elements\n",
        "# remove duplicates\n",
        "def duplicates(list):\n",
        "  key = []\n",
        "  for i in list:\n",
        "    if i not in key:\n",
        "      key.append(i)\n",
        "  return key"
      ],
      "metadata": {
        "id": "7_7-hRjysi09"
      },
      "execution_count": null,
      "outputs": []
    },
    {
      "cell_type": "code",
      "source": [
        "# key =  []\n",
        "# [key.append(x) for x in keyword1 if x not in key]\n",
        "keyword1 = duplicates(keyword1)\n",
        "print(\"Keyword after removing duplicates \", keyword1)\n",
        "\n",
        "# store the encryption list\n",
        "encrypting = duplicates(keyword1+ all_alphabets)\n",
        "print(\"Encrypting text is\", encrypting)\n",
        "\n",
        "# remove spaces from the encryption list\n",
        "for i in encrypting:\n",
        "  if(i == ' '):\n",
        "    encrypting.remove(' ')"
      ],
      "metadata": {
        "colab": {
          "base_uri": "https://localhost:8080/"
        },
        "id": "fvh3MCVUuRBA",
        "outputId": "254fe926-5865-409d-efba-277b122631b3"
      },
      "execution_count": null,
      "outputs": [
        {
          "output_type": "stream",
          "name": "stdout",
          "text": [
            "Keyword after removing duplicates  ['S', 'T', 'A', 'R', ' ', 'W']\n",
            "Encrypting text is ['S', 'T', 'A', 'R', ' ', 'W', 'B', 'C', 'D', 'E', 'F', 'G', 'H', 'I', 'J', 'K', 'L', 'M', 'N', 'O', 'P', 'Q', 'U', 'V', 'X', 'Y', 'Z']\n"
          ]
        }
      ]
    },
    {
      "cell_type": "code",
      "source": [
        "# maps each element of the message to the encryption list and stores it in cipher\n",
        "for i in range(len(msg)):\n",
        "  if(msg[i] != ' '):\n",
        "    ciphertext = ciphertext+encrypting[all_alphabets.index(msg[i])]\n",
        "  else:\n",
        "    ciphertext = ciphertext+' '"
      ],
      "metadata": {
        "id": "pJzE-S_8w4yW"
      },
      "execution_count": null,
      "outputs": []
    },
    {
      "cell_type": "code",
      "source": [
        "print(\"Keyword: \",keyword)\n",
        "print(\"Message before Ciphering: \",message)\n",
        "print(\"Ciphered Text: \",ciphertext)"
      ],
      "metadata": {
        "colab": {
          "base_uri": "https://localhost:8080/"
        },
        "id": "EBVhQDw7y8_d",
        "outputId": "80dc5888-69fb-405e-fa32-f11e88eb5c5a"
      },
      "execution_count": null,
      "outputs": [
        {
          "output_type": "stream",
          "name": "stdout",
          "text": [
            "Keyword:  Star War\n",
            "Message before Ciphering:  Attack at dawn\n",
            "Ciphered Text:  SPPSAG SP RSVJ\n"
          ]
        }
      ]
    },
    {
      "cell_type": "code",
      "source": [],
      "metadata": {
        "id": "OuYEC98WzWC0"
      },
      "execution_count": null,
      "outputs": []
    }
  ]
}