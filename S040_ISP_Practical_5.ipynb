{
  "nbformat": 4,
  "nbformat_minor": 0,
  "metadata": {
    "colab": {
      "provenance": [],
      "collapsed_sections": []
    },
    "kernelspec": {
      "name": "python3",
      "display_name": "Python 3"
    },
    "language_info": {
      "name": "python"
    }
  },
  "cells": [
    {
      "cell_type": "markdown",
      "source": [
        "# **Vignere Cipher**\n"
      ],
      "metadata": {
        "id": "PAAdE6KmkD9G"
      }
    },
    {
      "cell_type": "markdown",
      "source": [
        "Vigenere Cipher is method of encrypting alphabetic text.  It uses a simple form of polyalphabetic substitution. A polyalphabetic cipher is any cipher based on substitution, using multiple substitution alphabets. The encryption of the original text is done using the Vigenere square or Vigenere table.\n"
      ],
      "metadata": {
        "id": "IY7GefvjkEA9"
      }
    },
    {
      "cell_type": "code",
      "execution_count": null,
      "metadata": {
        "id": "Ohsv4KxjkDQI"
      },
      "outputs": [],
      "source": [
        "string = \"GEEKSFORGEEKS\"\n",
        "Keyword = \"MAYUR\""
      ]
    },
    {
      "cell_type": "code",
      "source": [
        "def generateKey(string, key):\n",
        "  key = list(key)\n",
        "  if len((string)) == len(key):\n",
        "    return(key)\n",
        "  else:\n",
        "    for i in range(len(string) - len(key)):\n",
        "      key.append(key[i%len(key)])\n",
        "    return(\"\".join(key))"
      ],
      "metadata": {
        "id": "j2or_hjlpI4P"
      },
      "execution_count": null,
      "outputs": []
    },
    {
      "cell_type": "code",
      "source": [
        "key = generateKey(string, Keyword)"
      ],
      "metadata": {
        "id": "LiNHAk9ZttQH"
      },
      "execution_count": null,
      "outputs": []
    },
    {
      "cell_type": "code",
      "source": [
        "def encrypt_cipherText(string, key):\n",
        "  cipher_text = []\n",
        "  for i in range(len(string)):\n",
        "    x = ((ord(string[i])+ ord(key[i]))% 26) + ord('A')\n",
        "    cipher_text.append(chr(x))\n",
        "  return(\"\".join(cipher_text))"
      ],
      "metadata": {
        "id": "fP-ZLBWZqszd"
      },
      "execution_count": null,
      "outputs": []
    },
    {
      "cell_type": "code",
      "source": [
        "print(\"Original Message: \",string)\n",
        "print(\"Keyword\",Keyword)\n",
        "cipher_text = encrypt_cipherText(string, key)\n",
        "print(\"CipherText: \", cipher_text)"
      ],
      "metadata": {
        "colab": {
          "base_uri": "https://localhost:8080/"
        },
        "id": "JX2jrw1Du1W3",
        "outputId": "f34e0154-8d9f-465a-a91a-b0d3ede197d7"
      },
      "execution_count": null,
      "outputs": [
        {
          "output_type": "stream",
          "name": "stdout",
          "text": [
            "Original Message:  GEEKSFORGEEKS\n",
            "Keyword MAYUR\n",
            "CipherText:  SECEJROPAVQKQ\n"
          ]
        }
      ]
    },
    {
      "cell_type": "code",
      "source": [],
      "metadata": {
        "id": "c14isewHv__7"
      },
      "execution_count": null,
      "outputs": []
    }
  ]
}