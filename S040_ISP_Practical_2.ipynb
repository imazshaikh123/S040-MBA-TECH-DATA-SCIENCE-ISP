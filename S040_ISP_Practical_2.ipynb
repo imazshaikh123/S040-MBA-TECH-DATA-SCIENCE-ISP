{
  "nbformat": 4,
  "nbformat_minor": 0,
  "metadata": {
    "colab": {
      "provenance": [],
      "collapsed_sections": []
    },
    "kernelspec": {
      "name": "python3",
      "display_name": "Python 3"
    },
    "language_info": {
      "name": "python"
    }
  },
  "cells": [
    {
      "cell_type": "code",
      "source": [
        "#take the input\n",
        "plain_text=input(\"Enter the message: \")\n",
        "key=input(\"Enter the one time pad: \")\n",
        "cipher_text=''"
      ],
      "metadata": {
        "colab": {
          "base_uri": "https://localhost:8080/"
        },
        "id": "nVWDWP7Kfz7k",
        "outputId": "ed034f10-8189-4eb2-a589-76a316e78a20"
      },
      "execution_count": null,
      "outputs": [
        {
          "name": "stdout",
          "output_type": "stream",
          "text": [
            "Enter the message: wioqfodxqam\n",
            "Enter the one time pad: Quantum king\n"
          ]
        }
      ]
    },
    {
      "cell_type": "code",
      "source": [
        "# step2 data clean: Replacing space and converting to lower\n",
        "plain_text=plain_text.replace(\" \",\"\")\n",
        "key=key.replace(\" \",\"\")\n",
        "plain_text=plain_text.lower()\n",
        "key=key.lower()\n"
      ],
      "metadata": {
        "id": "WzUIIxTpmuT6"
      },
      "execution_count": null,
      "outputs": []
    },
    {
      "cell_type": "code",
      "source": [
        "# checking if lengths are equal\n",
        "if(len(plain_text)!=len(key)):\n",
        "  print(\"Lenghts are different\")\n",
        "else:\n",
        "  print(\"Length equal\")"
      ],
      "metadata": {
        "colab": {
          "base_uri": "https://localhost:8080/"
        },
        "id": "wl_Cd92xnaCL",
        "outputId": "f48658b0-fdcd-418c-89e5-f5337117ef68"
      },
      "execution_count": null,
      "outputs": [
        {
          "output_type": "stream",
          "name": "stdout",
          "text": [
            "Length equal\n"
          ]
        }
      ]
    },
    {
      "cell_type": "code",
      "source": [
        "#Logic\n",
        "cipher_text=\"\"\n",
        "#iterating through the length\n",
        "for i in range(len(plain_text)):\n",
        "  k1=ord(plain_text[i])-97\n",
        "  k2=ord(key[i])-97\n",
        "  s=chr((k1+k2)%26+97)\n",
        "  cipher_text+=s\n",
        "print(\"Encrypted message is: \", cipher_text)"
      ],
      "metadata": {
        "colab": {
          "base_uri": "https://localhost:8080/"
        },
        "id": "OxydqRjMn2Y7",
        "outputId": "932502f8-21f3-486c-91ad-f11fdc3111d3"
      },
      "execution_count": null,
      "outputs": [
        {
          "output_type": "stream",
          "name": "stdout",
          "text": [
            "Encrypted message is:  mcodyiphyns\n"
          ]
        }
      ]
    },
    {
      "cell_type": "code",
      "source": [
        "#function to apply algo vernam cipher\n",
        "plain_text=input(\"Enter the message: \")\n",
        "key=input(\"Enter the one time pad: \")\n",
        "def vernam(plain_text,key):\n",
        "  # converrt into lower cases and remove spaces\n",
        "  plain_text=plain_text.replace(\" \",\"\")\n",
        "  key=key.replace(\" \",\"\")\n",
        "  plain_text=plain_text.lower()\n",
        "  key=key.lower()\n",
        "if len(plain_text)!=len(key):\n",
        "  print(\"Lenghts are different\")\n",
        "else:\n",
        "  print(\"Length equal\")\n",
        "cipher_text=\"\"\n",
        "#iterating through the length\n",
        "for i in range(len(plain_text)):\n",
        "  k1=ord(plain_text[i])-97\n",
        "  k2=ord(key[i])-97\n",
        "  s=chr(((k1-k2)+26)%26+97)\n",
        "  cipher_text+=s\n",
        "print(\"Encrypted message is: \", cipher_text)\n",
        "\n",
        "vernam(plain_text,key)"
      ],
      "metadata": {
        "colab": {
          "base_uri": "https://localhost:8080/"
        },
        "id": "V3vhEFmuqaYI",
        "outputId": "c16dda92-c192-43a4-fc1e-343fff64383e"
      },
      "execution_count": null,
      "outputs": [
        {
          "output_type": "stream",
          "name": "stdout",
          "text": [
            "Enter the message: hello\n",
            "Enter the one time pad: qwert\n",
            "Length equal\n",
            "Encrypted message is:  rihuv\n"
          ]
        }
      ]
    }
  ]
}